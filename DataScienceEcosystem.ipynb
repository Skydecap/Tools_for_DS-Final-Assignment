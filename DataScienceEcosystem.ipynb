{
 "cells": [
  {
   "cell_type": "markdown",
   "id": "1012a796-3709-4647-8cdb-e3afc79fc35b",
   "metadata": {},
   "source": [
    "# Data Science Tools and Ecosystem"
   ]
  },
  {
   "cell_type": "markdown",
   "id": "720245f1-2fbe-4572-b45a-8efbc6f89e46",
   "metadata": {},
   "source": [
    "#### In this notebook, Data Science Tools and Ecosystem are summarized."
   ]
  },
  {
   "cell_type": "markdown",
   "id": "dac7dcd2-4969-4840-90fa-6080d3e15f89",
   "metadata": {},
   "source": [
    "#### objectives:\n",
    "\n",
    "- list popular languages for data science\n",
    "- list commonly used libraries\n",
    "- list commonly used languages\n",
    "- create table for data science tools"
   ]
  },
  {
   "cell_type": "markdown",
   "id": "d5b0f571-e189-4eec-ab12-d8ee3503669c",
   "metadata": {},
   "source": [
    "##### Some of the popular languages that Data Scientists use are :\n",
    "\n",
    "1. Python\n",
    "2. R\n",
    "3. SQL\n",
    "4. JAVA\n",
    "5. JULIA\n",
    "6. SCALA"
   ]
  },
  {
   "cell_type": "markdown",
   "id": "3bad96f7-42e7-4e44-822a-8d4214ca472e",
   "metadata": {},
   "source": [
    "##### Some of the commonly used libraries used by Data Scientists include:\n",
    "\n",
    "1. Matplotlib\n",
    "2. Pandas\n",
    "3. NumPY\n",
    "4. Seaborn\n",
    "5. Scikit-learn\n",
    "6. Keras\n",
    "7. Tensorflow"
   ]
  },
  {
   "cell_type": "markdown",
   "id": "aa457b5f-e770-4429-8cf4-c88502d850c4",
   "metadata": {},
   "source": [
    "| Data Science Tools |\n",
    "|--------------------|\n",
    "| Jupyter|\n",
    "|RStudio|\n",
    "|VS Code|"
   ]
  },
  {
   "cell_type": "markdown",
   "id": "c1c41e88-9f6e-4865-bdec-3c7d1e08013d",
   "metadata": {},
   "source": [
    "### Below are a few examples of evaluating arithmetic expressions in Python"
   ]
  },
  {
   "cell_type": "code",
   "execution_count": 3,
   "id": "08dbddaa-da71-49fc-a67f-51940723a88b",
   "metadata": {},
   "outputs": [
    {
     "data": {
      "text/plain": [
       "17"
      ]
     },
     "execution_count": 3,
     "metadata": {},
     "output_type": "execute_result"
    }
   ],
   "source": [
    "(3*4)+5\n",
    "# This a simple arithmetic expression to mutiply then add integers"
   ]
  },
  {
   "cell_type": "code",
   "execution_count": 4,
   "id": "1b893d33-2a6a-441c-a522-589007df6ddc",
   "metadata": {},
   "outputs": [
    {
     "name": "stdout",
     "output_type": "stream",
     "text": [
      "3.3333333333333335\n"
     ]
    }
   ],
   "source": [
    "minutes =200\n",
    "hours = minutes/60\n",
    "print(hours)"
   ]
  },
  {
   "cell_type": "markdown",
   "id": "9bf5c2b8-60f2-4a86-bcb1-93ba59d2316a",
   "metadata": {},
   "source": [
    "## Author\n",
    "Shubham Kumar Yadav"
   ]
  },
  {
   "cell_type": "code",
   "execution_count": null,
   "id": "a0213443-145c-4a81-ac87-e15e2139c9db",
   "metadata": {},
   "outputs": [],
   "source": []
  }
 ],
 "metadata": {
  "kernelspec": {
   "display_name": "Python 3 (ipykernel)",
   "language": "python",
   "name": "python3"
  },
  "language_info": {
   "codemirror_mode": {
    "name": "ipython",
    "version": 3
   },
   "file_extension": ".py",
   "mimetype": "text/x-python",
   "name": "python",
   "nbconvert_exporter": "python",
   "pygments_lexer": "ipython3",
   "version": "3.13.5"
  }
 },
 "nbformat": 4,
 "nbformat_minor": 5
}
